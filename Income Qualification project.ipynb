{
 "cells": [
  {
   "cell_type": "code",
   "execution_count": 1,
   "id": "53c5d27c",
   "metadata": {},
   "outputs": [],
   "source": [
    "###Importing the modules\n",
    "\n",
    "import numpy as np \n",
    "import pandas as pd\n",
    "from sklearn.impute import SimpleImputer\n",
    "import collections\n",
    "from sklearn.model_selection import train_test_split\n",
    "from sklearn.ensemble import RandomForestClassifier\n",
    "from sklearn.metrics import accuracy_score,confusion_matrix,classification_report\n"
   ]
  },
  {
   "cell_type": "code",
   "execution_count": 2,
   "id": "67f0d680",
   "metadata": {},
   "outputs": [
    {
     "name": "stdout",
     "output_type": "stream",
     "text": [
      "Shape of the data (9557, 143)\n",
      "\n",
      "             Id      v2a1  hacdor  rooms  hacapo  v14a  refrig  v18q  v18q1  \\\n",
      "0  ID_279628684  190000.0       0      3       0     1       1     0    NaN   \n",
      "1  ID_f29eb3ddd  135000.0       0      4       0     1       1     1    1.0   \n",
      "2  ID_68de51c94       NaN       0      8       0     1       1     0    NaN   \n",
      "3  ID_d671db89c  180000.0       0      5       0     1       1     1    1.0   \n",
      "4  ID_d56d6f5f5  180000.0       0      5       0     1       1     1    1.0   \n",
      "\n",
      "   r4h1  ...  SQBescolari  SQBage  SQBhogar_total  SQBedjefe  SQBhogar_nin  \\\n",
      "0     0  ...          100    1849               1        100             0   \n",
      "1     0  ...          144    4489               1        144             0   \n",
      "2     0  ...          121    8464               1          0             0   \n",
      "3     0  ...           81     289              16        121             4   \n",
      "4     0  ...          121    1369              16        121             4   \n",
      "\n",
      "   SQBovercrowding  SQBdependency  SQBmeaned  agesq  Target  \n",
      "0         1.000000            0.0      100.0   1849       4  \n",
      "1         1.000000           64.0      144.0   4489       4  \n",
      "2         0.250000           64.0      121.0   8464       4  \n",
      "3         1.777778            1.0      121.0    289       4  \n",
      "4         1.777778            1.0      121.0   1369       4  \n",
      "\n",
      "[5 rows x 143 columns]\n"
     ]
    }
   ],
   "source": [
    "#import the file using pandas\n",
    "df=pd.read_csv('train.csv')\n",
    "print('Shape of the data',df.shape)\n",
    "print()\n",
    "print(df.head())"
   ]
  },
  {
   "cell_type": "code",
   "execution_count": 3,
   "id": "e066fb6f",
   "metadata": {},
   "outputs": [
    {
     "data": {
      "text/html": [
       "<div>\n",
       "<style scoped>\n",
       "    .dataframe tbody tr th:only-of-type {\n",
       "        vertical-align: middle;\n",
       "    }\n",
       "\n",
       "    .dataframe tbody tr th {\n",
       "        vertical-align: top;\n",
       "    }\n",
       "\n",
       "    .dataframe thead th {\n",
       "        text-align: right;\n",
       "    }\n",
       "</style>\n",
       "<table border=\"1\" class=\"dataframe\">\n",
       "  <thead>\n",
       "    <tr style=\"text-align: right;\">\n",
       "      <th></th>\n",
       "      <th>Name of Col</th>\n",
       "      <th>Num of Null</th>\n",
       "      <th>Dtype</th>\n",
       "      <th>N_Unique</th>\n",
       "      <th>Null Perc</th>\n",
       "    </tr>\n",
       "  </thead>\n",
       "  <tbody>\n",
       "    <tr>\n",
       "      <th>0</th>\n",
       "      <td>Id</td>\n",
       "      <td>0</td>\n",
       "      <td>object</td>\n",
       "      <td>9557</td>\n",
       "      <td>0.000000</td>\n",
       "    </tr>\n",
       "    <tr>\n",
       "      <th>1</th>\n",
       "      <td>v2a1</td>\n",
       "      <td>6860</td>\n",
       "      <td>float64</td>\n",
       "      <td>157</td>\n",
       "      <td>71.779847</td>\n",
       "    </tr>\n",
       "    <tr>\n",
       "      <th>2</th>\n",
       "      <td>hacdor</td>\n",
       "      <td>0</td>\n",
       "      <td>int64</td>\n",
       "      <td>2</td>\n",
       "      <td>0.000000</td>\n",
       "    </tr>\n",
       "    <tr>\n",
       "      <th>3</th>\n",
       "      <td>rooms</td>\n",
       "      <td>0</td>\n",
       "      <td>int64</td>\n",
       "      <td>11</td>\n",
       "      <td>0.000000</td>\n",
       "    </tr>\n",
       "    <tr>\n",
       "      <th>4</th>\n",
       "      <td>hacapo</td>\n",
       "      <td>0</td>\n",
       "      <td>int64</td>\n",
       "      <td>2</td>\n",
       "      <td>0.000000</td>\n",
       "    </tr>\n",
       "    <tr>\n",
       "      <th>...</th>\n",
       "      <td>...</td>\n",
       "      <td>...</td>\n",
       "      <td>...</td>\n",
       "      <td>...</td>\n",
       "      <td>...</td>\n",
       "    </tr>\n",
       "    <tr>\n",
       "      <th>138</th>\n",
       "      <td>SQBovercrowding</td>\n",
       "      <td>0</td>\n",
       "      <td>float64</td>\n",
       "      <td>38</td>\n",
       "      <td>0.000000</td>\n",
       "    </tr>\n",
       "    <tr>\n",
       "      <th>139</th>\n",
       "      <td>SQBdependency</td>\n",
       "      <td>0</td>\n",
       "      <td>float64</td>\n",
       "      <td>31</td>\n",
       "      <td>0.000000</td>\n",
       "    </tr>\n",
       "    <tr>\n",
       "      <th>140</th>\n",
       "      <td>SQBmeaned</td>\n",
       "      <td>5</td>\n",
       "      <td>float64</td>\n",
       "      <td>155</td>\n",
       "      <td>0.052318</td>\n",
       "    </tr>\n",
       "    <tr>\n",
       "      <th>141</th>\n",
       "      <td>agesq</td>\n",
       "      <td>0</td>\n",
       "      <td>int64</td>\n",
       "      <td>97</td>\n",
       "      <td>0.000000</td>\n",
       "    </tr>\n",
       "    <tr>\n",
       "      <th>142</th>\n",
       "      <td>Target</td>\n",
       "      <td>0</td>\n",
       "      <td>int64</td>\n",
       "      <td>4</td>\n",
       "      <td>0.000000</td>\n",
       "    </tr>\n",
       "  </tbody>\n",
       "</table>\n",
       "<p>143 rows × 5 columns</p>\n",
       "</div>"
      ],
      "text/plain": [
       "         Name of Col  Num of Null    Dtype  N_Unique  Null Perc\n",
       "0                 Id            0   object      9557   0.000000\n",
       "1               v2a1         6860  float64       157  71.779847\n",
       "2             hacdor            0    int64         2   0.000000\n",
       "3              rooms            0    int64        11   0.000000\n",
       "4             hacapo            0    int64         2   0.000000\n",
       "..               ...          ...      ...       ...        ...\n",
       "138  SQBovercrowding            0  float64        38   0.000000\n",
       "139    SQBdependency            0  float64        31   0.000000\n",
       "140        SQBmeaned            5  float64       155   0.052318\n",
       "141            agesq            0    int64        97   0.000000\n",
       "142           Target            0    int64         4   0.000000\n",
       "\n",
       "[143 rows x 5 columns]"
      ]
     },
     "execution_count": 3,
     "metadata": {},
     "output_type": "execute_result"
    }
   ],
   "source": [
    "data_train_info = pd.DataFrame(columns=['Name of Col', 'Num of Null', 'Dtype', 'N_Unique' , 'Null Perc'])\n",
    "\n",
    "for i in range(0, len(df.columns)):\n",
    "    data_train_info.loc[i] = [df.columns[i],\n",
    "                        df[df.columns[i]].isnull().sum(),\n",
    "                        df[df.columns[i]].dtypes,\n",
    "                        df[df.columns[i]].nunique(),\n",
    "                        df[df.columns[i]].isnull().sum()*100/df.shape[0]] \n",
    "data_train_info"
   ]
  },
  {
   "cell_type": "code",
   "execution_count": 4,
   "id": "9ae507ba",
   "metadata": {},
   "outputs": [
    {
     "data": {
      "text/html": [
       "<div>\n",
       "<style scoped>\n",
       "    .dataframe tbody tr th:only-of-type {\n",
       "        vertical-align: middle;\n",
       "    }\n",
       "\n",
       "    .dataframe tbody tr th {\n",
       "        vertical-align: top;\n",
       "    }\n",
       "\n",
       "    .dataframe thead th {\n",
       "        text-align: right;\n",
       "    }\n",
       "</style>\n",
       "<table border=\"1\" class=\"dataframe\">\n",
       "  <thead>\n",
       "    <tr style=\"text-align: right;\">\n",
       "      <th></th>\n",
       "      <th>Name of Col</th>\n",
       "      <th>Num of Null</th>\n",
       "      <th>Dtype</th>\n",
       "      <th>N_Unique</th>\n",
       "      <th>Null Perc</th>\n",
       "    </tr>\n",
       "  </thead>\n",
       "  <tbody>\n",
       "    <tr>\n",
       "      <th>1</th>\n",
       "      <td>v2a1</td>\n",
       "      <td>6860</td>\n",
       "      <td>float64</td>\n",
       "      <td>157</td>\n",
       "      <td>71.779847</td>\n",
       "    </tr>\n",
       "    <tr>\n",
       "      <th>8</th>\n",
       "      <td>v18q1</td>\n",
       "      <td>7342</td>\n",
       "      <td>float64</td>\n",
       "      <td>6</td>\n",
       "      <td>76.823271</td>\n",
       "    </tr>\n",
       "    <tr>\n",
       "      <th>21</th>\n",
       "      <td>rez_esc</td>\n",
       "      <td>7928</td>\n",
       "      <td>float64</td>\n",
       "      <td>6</td>\n",
       "      <td>82.954902</td>\n",
       "    </tr>\n",
       "    <tr>\n",
       "      <th>103</th>\n",
       "      <td>meaneduc</td>\n",
       "      <td>5</td>\n",
       "      <td>float64</td>\n",
       "      <td>155</td>\n",
       "      <td>0.052318</td>\n",
       "    </tr>\n",
       "    <tr>\n",
       "      <th>140</th>\n",
       "      <td>SQBmeaned</td>\n",
       "      <td>5</td>\n",
       "      <td>float64</td>\n",
       "      <td>155</td>\n",
       "      <td>0.052318</td>\n",
       "    </tr>\n",
       "  </tbody>\n",
       "</table>\n",
       "</div>"
      ],
      "text/plain": [
       "    Name of Col  Num of Null    Dtype  N_Unique  Null Perc\n",
       "1          v2a1         6860  float64       157  71.779847\n",
       "8         v18q1         7342  float64         6  76.823271\n",
       "21      rez_esc         7928  float64         6  82.954902\n",
       "103    meaneduc            5  float64       155   0.052318\n",
       "140   SQBmeaned            5  float64       155   0.052318"
      ]
     },
     "execution_count": 4,
     "metadata": {},
     "output_type": "execute_result"
    }
   ],
   "source": [
    "data_train_info[data_train_info['Num of Null']>0]"
   ]
  },
  {
   "cell_type": "code",
   "execution_count": 5,
   "id": "a65d3090",
   "metadata": {},
   "outputs": [
    {
     "name": "stdout",
     "output_type": "stream",
     "text": [
      "(9557, 140)\n"
     ]
    }
   ],
   "source": [
    "#Percentage of null values in v2a1, v18q1, rez_esc is more than 50%. So, these columns are dropped \n",
    "df= df.drop(['v2a1','v18q1','rez_esc'],axis=1) \n",
    "print(df.shape)"
   ]
  },
  {
   "cell_type": "code",
   "execution_count": 6,
   "id": "6955a898",
   "metadata": {},
   "outputs": [
    {
     "data": {
      "text/plain": [
       "meaneduc     0\n",
       "SQBmeaned    0\n",
       "dtype: int64"
      ]
     },
     "execution_count": 6,
     "metadata": {},
     "output_type": "execute_result"
    }
   ],
   "source": [
    "#Imputing the meaneduc & SQBmeaned coumns \n",
    "imp = SimpleImputer(missing_values=np.nan, strategy='median')\n",
    "imp.fit(df[['meaneduc','SQBmeaned']])\n",
    "df[['meaneduc','SQBmeaned']]=imp.transform(df[['meaneduc','SQBmeaned']])\n",
    "df[['meaneduc','SQBmeaned']].isnull().sum()"
   ]
  },
  {
   "cell_type": "markdown",
   "id": "449acdde",
   "metadata": {},
   "source": [
    "#### Fix the column with mixed values."
   ]
  },
  {
   "cell_type": "code",
   "execution_count": 7,
   "id": "899a6b87",
   "metadata": {},
   "outputs": [
    {
     "data": {
      "text/html": [
       "<div>\n",
       "<style scoped>\n",
       "    .dataframe tbody tr th:only-of-type {\n",
       "        vertical-align: middle;\n",
       "    }\n",
       "\n",
       "    .dataframe tbody tr th {\n",
       "        vertical-align: top;\n",
       "    }\n",
       "\n",
       "    .dataframe thead th {\n",
       "        text-align: right;\n",
       "    }\n",
       "</style>\n",
       "<table border=\"1\" class=\"dataframe\">\n",
       "  <thead>\n",
       "    <tr style=\"text-align: right;\">\n",
       "      <th></th>\n",
       "      <th>idhogar</th>\n",
       "      <th>dependency</th>\n",
       "      <th>edjefe</th>\n",
       "      <th>edjefa</th>\n",
       "    </tr>\n",
       "  </thead>\n",
       "  <tbody>\n",
       "    <tr>\n",
       "      <th>count</th>\n",
       "      <td>9557</td>\n",
       "      <td>9557</td>\n",
       "      <td>9557</td>\n",
       "      <td>9557</td>\n",
       "    </tr>\n",
       "    <tr>\n",
       "      <th>unique</th>\n",
       "      <td>2988</td>\n",
       "      <td>31</td>\n",
       "      <td>22</td>\n",
       "      <td>22</td>\n",
       "    </tr>\n",
       "    <tr>\n",
       "      <th>top</th>\n",
       "      <td>fd8a6d014</td>\n",
       "      <td>yes</td>\n",
       "      <td>no</td>\n",
       "      <td>no</td>\n",
       "    </tr>\n",
       "    <tr>\n",
       "      <th>freq</th>\n",
       "      <td>13</td>\n",
       "      <td>2192</td>\n",
       "      <td>3762</td>\n",
       "      <td>6230</td>\n",
       "    </tr>\n",
       "  </tbody>\n",
       "</table>\n",
       "</div>"
      ],
      "text/plain": [
       "          idhogar dependency edjefe edjefa\n",
       "count        9557       9557   9557   9557\n",
       "unique       2988         31     22     22\n",
       "top     fd8a6d014        yes     no     no\n",
       "freq           13       2192   3762   6230"
      ]
     },
     "execution_count": 7,
     "metadata": {},
     "output_type": "execute_result"
    }
   ],
   "source": [
    "df= df.drop(['Id'],axis=1)\n",
    "df.describe(include='O')"
   ]
  },
  {
   "cell_type": "code",
   "execution_count": 8,
   "id": "a28deba4",
   "metadata": {},
   "outputs": [],
   "source": [
    "# Dependency replace yes with 0.5 and no with 0\n",
    "df.dependency = df.dependency.replace(to_replace=['yes','no'],value=[0.5,0]).astype('float')"
   ]
  },
  {
   "cell_type": "code",
   "execution_count": 9,
   "id": "be5dd6c0",
   "metadata": {},
   "outputs": [],
   "source": [
    "# edjefe replace yes with median and no with zero\n",
    "med_1=np.median(df.edjefe[df.edjefe.isin(['yes','no'])==False].astype('float'))\n",
    "df.edjefe= df.edjefe.replace(to_replace=['yes','no'],value=[med_1,0]).astype('float')"
   ]
  },
  {
   "cell_type": "code",
   "execution_count": 10,
   "id": "4db1beec",
   "metadata": {},
   "outputs": [],
   "source": [
    "# edjefa replace yes with median and no with zero\n",
    "med_2=np.median(df.edjefa[df.edjefa.isin(['yes','no'])==False].astype('float'))\n",
    "df.edjefa= df.edjefa.replace(to_replace=['yes','no'],value=[med_2,0]).astype('float')"
   ]
  },
  {
   "cell_type": "code",
   "execution_count": 11,
   "id": "9c6bdd7b",
   "metadata": {},
   "outputs": [
    {
     "data": {
      "text/html": [
       "<div>\n",
       "<style scoped>\n",
       "    .dataframe tbody tr th:only-of-type {\n",
       "        vertical-align: middle;\n",
       "    }\n",
       "\n",
       "    .dataframe tbody tr th {\n",
       "        vertical-align: top;\n",
       "    }\n",
       "\n",
       "    .dataframe thead th {\n",
       "        text-align: right;\n",
       "    }\n",
       "</style>\n",
       "<table border=\"1\" class=\"dataframe\">\n",
       "  <thead>\n",
       "    <tr style=\"text-align: right;\">\n",
       "      <th></th>\n",
       "      <th>idhogar</th>\n",
       "    </tr>\n",
       "  </thead>\n",
       "  <tbody>\n",
       "    <tr>\n",
       "      <th>count</th>\n",
       "      <td>9557</td>\n",
       "    </tr>\n",
       "    <tr>\n",
       "      <th>unique</th>\n",
       "      <td>2988</td>\n",
       "    </tr>\n",
       "    <tr>\n",
       "      <th>top</th>\n",
       "      <td>fd8a6d014</td>\n",
       "    </tr>\n",
       "    <tr>\n",
       "      <th>freq</th>\n",
       "      <td>13</td>\n",
       "    </tr>\n",
       "  </tbody>\n",
       "</table>\n",
       "</div>"
      ],
      "text/plain": [
       "          idhogar\n",
       "count        9557\n",
       "unique       2988\n",
       "top     fd8a6d014\n",
       "freq           13"
      ]
     },
     "execution_count": 11,
     "metadata": {},
     "output_type": "execute_result"
    }
   ],
   "source": [
    "df.describe(include='O')"
   ]
  },
  {
   "cell_type": "code",
   "execution_count": 12,
   "id": "9520c53e",
   "metadata": {},
   "outputs": [
    {
     "name": "stdout",
     "output_type": "stream",
     "text": [
      "2988\n"
     ]
    }
   ],
   "source": [
    "print(df.idhogar.nunique())"
   ]
  },
  {
   "cell_type": "code",
   "execution_count": 13,
   "id": "197cd026",
   "metadata": {},
   "outputs": [
    {
     "name": "stdout",
     "output_type": "stream",
     "text": [
      "(9557, 139)\n"
     ]
    },
    {
     "data": {
      "text/plain": [
       "Counter({4: 5996, 2: 1597, 3: 1209, 1: 755})"
      ]
     },
     "execution_count": 13,
     "metadata": {},
     "output_type": "execute_result"
    }
   ],
   "source": [
    "#### Finding biasness in the dataset\n",
    "\n",
    "df.Target.value_counts()\n",
    "import collections\n",
    "print(df.shape)\n",
    "collections.Counter(df['Target'])"
   ]
  },
  {
   "cell_type": "code",
   "execution_count": 14,
   "id": "b8fc6f95",
   "metadata": {},
   "outputs": [
    {
     "name": "stdout",
     "output_type": "stream",
     "text": [
      "Index(['001ff74ca', '003123ec2', '004616164', '004983866', '005905417',\n",
      "       '006031de3', '006555fe2', '00693f597', '006b64543', '00941f1f4',\n",
      "       ...\n",
      "       'ff250fd6c', 'ff31b984b', 'ff38ddef1', 'ff6d16fd0', 'ff703eed4',\n",
      "       'ff9343a35', 'ff9d5ab17', 'ffae4a097', 'ffe90d46f', 'fff7d6be1'],\n",
      "      dtype='object', name='idhogar', length=2988)\n"
     ]
    }
   ],
   "source": [
    "### Checking whether all members of the house have the same poverty level.\n",
    "\n",
    "poverty_level=(df.groupby('idhogar')['Target'].nunique()>1).index\n",
    "print(poverty_level)"
   ]
  },
  {
   "cell_type": "code",
   "execution_count": 15,
   "id": "77cec99e",
   "metadata": {},
   "outputs": [
    {
     "data": {
      "text/plain": [
       "Index(['001ff74ca', '003123ec2', '004616164', '004983866', '005905417',\n",
       "       '006031de3', '006555fe2', '00693f597', '006b64543', '00941f1f4',\n",
       "       ...\n",
       "       'ff250fd6c', 'ff31b984b', 'ff38ddef1', 'ff6d16fd0', 'ff703eed4',\n",
       "       'ff9343a35', 'ff9d5ab17', 'ffae4a097', 'ffe90d46f', 'fff7d6be1'],\n",
       "      dtype='object', name='idhogar', length=2988)"
      ]
     },
     "metadata": {},
     "output_type": "display_data"
    }
   ],
   "source": [
    "### Checking if there is a house without a family head.\n",
    "\n",
    "no_head=(df.groupby('idhogar')['parentesco1'].sum()==0).index\n",
    "display(no_head)\n"
   ]
  },
  {
   "cell_type": "code",
   "execution_count": 16,
   "id": "5333355d",
   "metadata": {},
   "outputs": [
    {
     "data": {
      "text/html": [
       "<div>\n",
       "<style scoped>\n",
       "    .dataframe tbody tr th:only-of-type {\n",
       "        vertical-align: middle;\n",
       "    }\n",
       "\n",
       "    .dataframe tbody tr th {\n",
       "        vertical-align: top;\n",
       "    }\n",
       "\n",
       "    .dataframe thead th {\n",
       "        text-align: right;\n",
       "    }\n",
       "</style>\n",
       "<table border=\"1\" class=\"dataframe\">\n",
       "  <thead>\n",
       "    <tr style=\"text-align: right;\">\n",
       "      <th></th>\n",
       "      <th>hacdor</th>\n",
       "      <th>rooms</th>\n",
       "      <th>hacapo</th>\n",
       "      <th>v14a</th>\n",
       "      <th>refrig</th>\n",
       "      <th>v18q</th>\n",
       "      <th>r4h1</th>\n",
       "      <th>r4h2</th>\n",
       "      <th>r4h3</th>\n",
       "      <th>r4m1</th>\n",
       "      <th>...</th>\n",
       "      <th>SQBescolari</th>\n",
       "      <th>SQBage</th>\n",
       "      <th>SQBhogar_total</th>\n",
       "      <th>SQBedjefe</th>\n",
       "      <th>SQBhogar_nin</th>\n",
       "      <th>SQBovercrowding</th>\n",
       "      <th>SQBdependency</th>\n",
       "      <th>SQBmeaned</th>\n",
       "      <th>agesq</th>\n",
       "      <th>Target</th>\n",
       "    </tr>\n",
       "  </thead>\n",
       "  <tbody>\n",
       "    <tr>\n",
       "      <th>0</th>\n",
       "      <td>0</td>\n",
       "      <td>3</td>\n",
       "      <td>0</td>\n",
       "      <td>1</td>\n",
       "      <td>1</td>\n",
       "      <td>0</td>\n",
       "      <td>0</td>\n",
       "      <td>1</td>\n",
       "      <td>1</td>\n",
       "      <td>0</td>\n",
       "      <td>...</td>\n",
       "      <td>100</td>\n",
       "      <td>1849</td>\n",
       "      <td>1</td>\n",
       "      <td>100</td>\n",
       "      <td>0</td>\n",
       "      <td>1.000000</td>\n",
       "      <td>0.0</td>\n",
       "      <td>100.0</td>\n",
       "      <td>1849</td>\n",
       "      <td>4</td>\n",
       "    </tr>\n",
       "    <tr>\n",
       "      <th>1</th>\n",
       "      <td>0</td>\n",
       "      <td>4</td>\n",
       "      <td>0</td>\n",
       "      <td>1</td>\n",
       "      <td>1</td>\n",
       "      <td>1</td>\n",
       "      <td>0</td>\n",
       "      <td>1</td>\n",
       "      <td>1</td>\n",
       "      <td>0</td>\n",
       "      <td>...</td>\n",
       "      <td>144</td>\n",
       "      <td>4489</td>\n",
       "      <td>1</td>\n",
       "      <td>144</td>\n",
       "      <td>0</td>\n",
       "      <td>1.000000</td>\n",
       "      <td>64.0</td>\n",
       "      <td>144.0</td>\n",
       "      <td>4489</td>\n",
       "      <td>4</td>\n",
       "    </tr>\n",
       "    <tr>\n",
       "      <th>2</th>\n",
       "      <td>0</td>\n",
       "      <td>8</td>\n",
       "      <td>0</td>\n",
       "      <td>1</td>\n",
       "      <td>1</td>\n",
       "      <td>0</td>\n",
       "      <td>0</td>\n",
       "      <td>0</td>\n",
       "      <td>0</td>\n",
       "      <td>0</td>\n",
       "      <td>...</td>\n",
       "      <td>121</td>\n",
       "      <td>8464</td>\n",
       "      <td>1</td>\n",
       "      <td>0</td>\n",
       "      <td>0</td>\n",
       "      <td>0.250000</td>\n",
       "      <td>64.0</td>\n",
       "      <td>121.0</td>\n",
       "      <td>8464</td>\n",
       "      <td>4</td>\n",
       "    </tr>\n",
       "    <tr>\n",
       "      <th>3</th>\n",
       "      <td>0</td>\n",
       "      <td>5</td>\n",
       "      <td>0</td>\n",
       "      <td>1</td>\n",
       "      <td>1</td>\n",
       "      <td>1</td>\n",
       "      <td>0</td>\n",
       "      <td>2</td>\n",
       "      <td>2</td>\n",
       "      <td>1</td>\n",
       "      <td>...</td>\n",
       "      <td>81</td>\n",
       "      <td>289</td>\n",
       "      <td>16</td>\n",
       "      <td>121</td>\n",
       "      <td>4</td>\n",
       "      <td>1.777778</td>\n",
       "      <td>1.0</td>\n",
       "      <td>121.0</td>\n",
       "      <td>289</td>\n",
       "      <td>4</td>\n",
       "    </tr>\n",
       "    <tr>\n",
       "      <th>4</th>\n",
       "      <td>0</td>\n",
       "      <td>5</td>\n",
       "      <td>0</td>\n",
       "      <td>1</td>\n",
       "      <td>1</td>\n",
       "      <td>1</td>\n",
       "      <td>0</td>\n",
       "      <td>2</td>\n",
       "      <td>2</td>\n",
       "      <td>1</td>\n",
       "      <td>...</td>\n",
       "      <td>121</td>\n",
       "      <td>1369</td>\n",
       "      <td>16</td>\n",
       "      <td>121</td>\n",
       "      <td>4</td>\n",
       "      <td>1.777778</td>\n",
       "      <td>1.0</td>\n",
       "      <td>121.0</td>\n",
       "      <td>1369</td>\n",
       "      <td>4</td>\n",
       "    </tr>\n",
       "  </tbody>\n",
       "</table>\n",
       "<p>5 rows × 139 columns</p>\n",
       "</div>"
      ],
      "text/plain": [
       "   hacdor  rooms  hacapo  v14a  refrig  v18q  r4h1  r4h2  r4h3  r4m1  ...  \\\n",
       "0       0      3       0     1       1     0     0     1     1     0  ...   \n",
       "1       0      4       0     1       1     1     0     1     1     0  ...   \n",
       "2       0      8       0     1       1     0     0     0     0     0  ...   \n",
       "3       0      5       0     1       1     1     0     2     2     1  ...   \n",
       "4       0      5       0     1       1     1     0     2     2     1  ...   \n",
       "\n",
       "   SQBescolari  SQBage  SQBhogar_total  SQBedjefe  SQBhogar_nin  \\\n",
       "0          100    1849               1        100             0   \n",
       "1          144    4489               1        144             0   \n",
       "2          121    8464               1          0             0   \n",
       "3           81     289              16        121             4   \n",
       "4          121    1369              16        121             4   \n",
       "\n",
       "   SQBovercrowding  SQBdependency  SQBmeaned  agesq  Target  \n",
       "0         1.000000            0.0      100.0   1849       4  \n",
       "1         1.000000           64.0      144.0   4489       4  \n",
       "2         0.250000           64.0      121.0   8464       4  \n",
       "3         1.777778            1.0      121.0    289       4  \n",
       "4         1.777778            1.0      121.0   1369       4  \n",
       "\n",
       "[5 rows x 139 columns]"
      ]
     },
     "execution_count": 16,
     "metadata": {},
     "output_type": "execute_result"
    }
   ],
   "source": [
    "#### Set poverty level of the members and the head of the house same in a family.\n",
    "\n",
    "target_mean=df.groupby('idhogar')['Target'].mean().astype('int64').reset_index().rename(columns={'Target':'Target_mean'})\n",
    "df=df.merge(target_mean,how='left',on='idhogar')\n",
    "df.Target=df.Target_mean\n",
    "df.drop('Target_mean',axis=1,inplace=True)\n",
    "df.head()"
   ]
  },
  {
   "cell_type": "code",
   "execution_count": 17,
   "id": "dcc91374",
   "metadata": {},
   "outputs": [
    {
     "data": {
      "text/plain": [
       "(9557, 138)"
      ]
     },
     "execution_count": 17,
     "metadata": {},
     "output_type": "execute_result"
    }
   ],
   "source": [
    "df= df.drop(['idhogar'],axis=1)\n",
    "df.shape"
   ]
  },
  {
   "cell_type": "code",
   "execution_count": 18,
   "id": "2f385ebd",
   "metadata": {},
   "outputs": [
    {
     "name": "stdout",
     "output_type": "stream",
     "text": [
      "shape of the x (9557, 137)\n",
      "shape of the y (9557,)\n"
     ]
    }
   ],
   "source": [
    "#### Assigning the value for x & y\n",
    "\n",
    "x=df.drop(['Target'],axis=1)\n",
    "print('shape of the x',x.shape)\n",
    "y=df.Target\n",
    "print('shape of the y',y.shape)\n"
   ]
  },
  {
   "cell_type": "code",
   "execution_count": 19,
   "id": "52a0a9a9",
   "metadata": {},
   "outputs": [],
   "source": [
    "### Deploying Random Forest Classifier.\n",
    "\n",
    "x_train,x_test,y_train,y_test = train_test_split(x,y,test_size=0.2,random_state=10)\n",
    "rfc = RandomForestClassifier(criterion= 'gini',n_estimators=100)\n",
    "rfc.fit(x_train,y_train)\n",
    "pred=rfc.predict(x_test)"
   ]
  },
  {
   "cell_type": "code",
   "execution_count": 20,
   "id": "3bcb1e88",
   "metadata": {},
   "outputs": [
    {
     "name": "stdout",
     "output_type": "stream",
     "text": [
      "Accuracy score:  0.930439330543933\n",
      "\n",
      "Confusion matrix:\n",
      " [[ 138    2    1    3]\n",
      " [   3  266    3    3]\n",
      " [   0    2  174    3]\n",
      " [  28   47   38 1201]]\n",
      "\n",
      "Classification report:\n",
      "               precision    recall  f1-score   support\n",
      "\n",
      "           1       0.82      0.96      0.88       144\n",
      "           2       0.84      0.97      0.90       275\n",
      "           3       0.81      0.97      0.88       179\n",
      "           4       0.99      0.91      0.95      1314\n",
      "\n",
      "    accuracy                           0.93      1912\n",
      "   macro avg       0.86      0.95      0.90      1912\n",
      "weighted avg       0.94      0.93      0.93      1912\n",
      "\n"
     ]
    }
   ],
   "source": [
    "### Check the accuracy using random forest\n",
    "\n",
    "print('Accuracy score: ', accuracy_score(pred,y_test))\n",
    "print()\n",
    "print('Confusion matrix:\\n', confusion_matrix(pred,y_test))\n",
    "print()\n",
    "print('Classification report:\\n', classification_report(pred,y_test))"
   ]
  },
  {
   "cell_type": "markdown",
   "id": "57d43c4d",
   "metadata": {},
   "source": [
    "#### Check the accuracy using random forest with cross validation."
   ]
  },
  {
   "cell_type": "code",
   "execution_count": 21,
   "id": "0382e465",
   "metadata": {},
   "outputs": [],
   "source": [
    "from sklearn.model_selection import KFold,cross_val_score"
   ]
  },
  {
   "cell_type": "code",
   "execution_count": 22,
   "id": "e39ae76d",
   "metadata": {},
   "outputs": [
    {
     "name": "stdout",
     "output_type": "stream",
     "text": [
      "[0.91563113 0.89535644 0.8940484  0.90843689 0.91628515]\n",
      "90.595160235448\n"
     ]
    }
   ],
   "source": [
    "seed=7\n",
    "kfold=KFold(n_splits=5,random_state=seed,shuffle=True)\n",
    "\n",
    "rmclassifier=RandomForestClassifier(random_state=10)\n",
    "#print(cross_val_score(rmclassifier,x_train,y_train,cv=kfold,scoring='accuracy'))\n",
    "results=cross_val_score(rmclassifier,x_train,y_train,cv=kfold,scoring='accuracy')\n",
    "print(results)\n",
    "print(results.mean()*100)"
   ]
  },
  {
   "cell_type": "markdown",
   "id": "abe5048d",
   "metadata": {},
   "source": [
    "#### Predict for Test Data"
   ]
  },
  {
   "cell_type": "code",
   "execution_count": 23,
   "id": "0b27dc5b",
   "metadata": {},
   "outputs": [],
   "source": [
    "df_test =pd.read_csv('test.csv')"
   ]
  },
  {
   "cell_type": "code",
   "execution_count": 24,
   "id": "55212980",
   "metadata": {},
   "outputs": [
    {
     "name": "stdout",
     "output_type": "stream",
     "text": [
      "(23856, 139)\n"
     ]
    }
   ],
   "source": [
    "#Percentage of null values in v2a1, v18q1, rez_esc is more than 50%. So, these columns are dropped \n",
    "df_test= df_test.drop(['v2a1','v18q1','rez_esc'],axis=1) \n",
    "print(df_test.shape)"
   ]
  },
  {
   "cell_type": "code",
   "execution_count": 25,
   "id": "3c272b18",
   "metadata": {},
   "outputs": [
    {
     "data": {
      "text/plain": [
       "meaneduc     0\n",
       "SQBmeaned    0\n",
       "dtype: int64"
      ]
     },
     "execution_count": 25,
     "metadata": {},
     "output_type": "execute_result"
    }
   ],
   "source": [
    "#Imputing the meaneduc & SQBmeaned coumns \n",
    "imp = SimpleImputer(missing_values=np.nan, strategy='median')\n",
    "imp.fit(df_test[['meaneduc','SQBmeaned']])\n",
    "df_test[['meaneduc','SQBmeaned']]=imp.transform(df_test[['meaneduc','SQBmeaned']])\n",
    "df_test[['meaneduc','SQBmeaned']].isnull().sum()"
   ]
  },
  {
   "cell_type": "code",
   "execution_count": 26,
   "id": "4c25bf75",
   "metadata": {},
   "outputs": [
    {
     "data": {
      "text/html": [
       "<div>\n",
       "<style scoped>\n",
       "    .dataframe tbody tr th:only-of-type {\n",
       "        vertical-align: middle;\n",
       "    }\n",
       "\n",
       "    .dataframe tbody tr th {\n",
       "        vertical-align: top;\n",
       "    }\n",
       "\n",
       "    .dataframe thead th {\n",
       "        text-align: right;\n",
       "    }\n",
       "</style>\n",
       "<table border=\"1\" class=\"dataframe\">\n",
       "  <thead>\n",
       "    <tr style=\"text-align: right;\">\n",
       "      <th></th>\n",
       "      <th>Id</th>\n",
       "      <th>idhogar</th>\n",
       "      <th>dependency</th>\n",
       "      <th>edjefe</th>\n",
       "      <th>edjefa</th>\n",
       "    </tr>\n",
       "  </thead>\n",
       "  <tbody>\n",
       "    <tr>\n",
       "      <th>count</th>\n",
       "      <td>23856</td>\n",
       "      <td>23856</td>\n",
       "      <td>23856</td>\n",
       "      <td>23856</td>\n",
       "      <td>23856</td>\n",
       "    </tr>\n",
       "    <tr>\n",
       "      <th>unique</th>\n",
       "      <td>23856</td>\n",
       "      <td>7352</td>\n",
       "      <td>35</td>\n",
       "      <td>22</td>\n",
       "      <td>22</td>\n",
       "    </tr>\n",
       "    <tr>\n",
       "      <th>top</th>\n",
       "      <td>ID_2f6873615</td>\n",
       "      <td>8e9159699</td>\n",
       "      <td>yes</td>\n",
       "      <td>no</td>\n",
       "      <td>no</td>\n",
       "    </tr>\n",
       "    <tr>\n",
       "      <th>freq</th>\n",
       "      <td>1</td>\n",
       "      <td>13</td>\n",
       "      <td>5388</td>\n",
       "      <td>9056</td>\n",
       "      <td>15845</td>\n",
       "    </tr>\n",
       "  </tbody>\n",
       "</table>\n",
       "</div>"
      ],
      "text/plain": [
       "                  Id    idhogar dependency edjefe edjefa\n",
       "count          23856      23856      23856  23856  23856\n",
       "unique         23856       7352         35     22     22\n",
       "top     ID_2f6873615  8e9159699        yes     no     no\n",
       "freq               1         13       5388   9056  15845"
      ]
     },
     "execution_count": 26,
     "metadata": {},
     "output_type": "execute_result"
    }
   ],
   "source": [
    "df_test.describe(include='O')"
   ]
  },
  {
   "cell_type": "code",
   "execution_count": 27,
   "id": "d6aa5fbb",
   "metadata": {},
   "outputs": [],
   "source": [
    "# Dependency replace yes with 0.5 and no with 0\n",
    "df_test.dependency = df_test.dependency.replace(to_replace=['yes','no'],value=[0.5,0]).astype('float')\n",
    "\n",
    "# edjefe replace yes with median and no with zero\n",
    "med_1=np.median(df_test.edjefe[df_test.edjefe.isin(['yes','no'])==False].astype('float'))\n",
    "df_test.edjefe= df_test.edjefe.replace(to_replace=['yes','no'],value=[med_1,0]).astype('float')\n",
    "\n",
    "# edjefa replace yes with median and no with zero\n",
    "med_2=np.median(df_test.edjefa[df_test.edjefa.isin(['yes','no'])==False].astype('float'))\n",
    "df_test.edjefa= df_test.edjefa.replace(to_replace=['yes','no'],value=[med_2,0]).astype('float')"
   ]
  },
  {
   "cell_type": "code",
   "execution_count": 28,
   "id": "e2c0c7b4",
   "metadata": {},
   "outputs": [
    {
     "data": {
      "text/plain": [
       "(23856, 138)"
      ]
     },
     "execution_count": 28,
     "metadata": {},
     "output_type": "execute_result"
    }
   ],
   "source": [
    "df_test= df_test.drop(['idhogar'],axis=1)\n",
    "df_test.shape"
   ]
  },
  {
   "cell_type": "code",
   "execution_count": 29,
   "id": "69013c88",
   "metadata": {},
   "outputs": [
    {
     "data": {
      "text/plain": [
       "(23856, 137)"
      ]
     },
     "execution_count": 29,
     "metadata": {},
     "output_type": "execute_result"
    }
   ],
   "source": [
    "df_test= df_test.drop(['Id'],axis=1)\n",
    "df_test.shape"
   ]
  },
  {
   "cell_type": "code",
   "execution_count": 30,
   "id": "31138c37",
   "metadata": {},
   "outputs": [
    {
     "data": {
      "text/plain": [
       "array([4, 4, 4, ..., 4, 4, 2], dtype=int64)"
      ]
     },
     "execution_count": 30,
     "metadata": {},
     "output_type": "execute_result"
    }
   ],
   "source": [
    "y_predict_testdata = rfc.predict(df_test)\n",
    "y_predict_testdata"
   ]
  },
  {
   "cell_type": "code",
   "execution_count": null,
   "id": "2785d618",
   "metadata": {},
   "outputs": [],
   "source": []
  }
 ],
 "metadata": {
  "kernelspec": {
   "display_name": "Python 3 (ipykernel)",
   "language": "python",
   "name": "python3"
  },
  "language_info": {
   "codemirror_mode": {
    "name": "ipython",
    "version": 3
   },
   "file_extension": ".py",
   "mimetype": "text/x-python",
   "name": "python",
   "nbconvert_exporter": "python",
   "pygments_lexer": "ipython3",
   "version": "3.10.7"
  }
 },
 "nbformat": 4,
 "nbformat_minor": 5
}
